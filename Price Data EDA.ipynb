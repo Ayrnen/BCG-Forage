{
 "cells": [
  {
   "cell_type": "code",
   "execution_count": 1,
   "id": "9300f790-9ecc-4d80-b657-f549e3ddb45f",
   "metadata": {},
   "outputs": [],
   "source": [
    "import pandas as pd\n",
    "import numpy as np"
   ]
  },
  {
   "cell_type": "code",
   "execution_count": 3,
   "id": "2a006318-d258-4dd2-b2dc-d0da45b846b1",
   "metadata": {},
   "outputs": [],
   "source": [
    "# Import CSV\n",
    "\n",
    "dfPrice = pd.read_csv(r'C:\\Users\\Aymen\\Desktop\\BCG Forage\\Task 2\\price_data.csv')"
   ]
  },
  {
   "cell_type": "code",
   "execution_count": 4,
   "id": "fe54ece4-f79c-4884-88b8-b77271cd9cec",
   "metadata": {},
   "outputs": [
    {
     "name": "stdout",
     "output_type": "stream",
     "text": [
      "                                 id  price_date  price_off_peak_var  \\\n",
      "0  038af19179925da21a25619c5a24b745  2015-01-01            0.151367   \n",
      "1  038af19179925da21a25619c5a24b745  2015-02-01            0.151367   \n",
      "2  038af19179925da21a25619c5a24b745  2015-03-01            0.151367   \n",
      "3  038af19179925da21a25619c5a24b745  2015-04-01            0.149626   \n",
      "4  038af19179925da21a25619c5a24b745  2015-05-01            0.149626   \n",
      "\n",
      "   price_peak_var  price_mid_peak_var  price_off_peak_fix  price_peak_fix  \\\n",
      "0             0.0                 0.0           44.266931             0.0   \n",
      "1             0.0                 0.0           44.266931             0.0   \n",
      "2             0.0                 0.0           44.266931             0.0   \n",
      "3             0.0                 0.0           44.266931             0.0   \n",
      "4             0.0                 0.0           44.266931             0.0   \n",
      "\n",
      "   price_mid_peak_fix  \n",
      "0                 0.0  \n",
      "1                 0.0  \n",
      "2                 0.0  \n",
      "3                 0.0  \n",
      "4                 0.0  \n"
     ]
    }
   ],
   "source": [
    "# Import CSV\n",
    "\n",
    "print(dfPrice.head())"
   ]
  },
  {
   "cell_type": "code",
   "execution_count": null,
   "id": "b7de8a8d-a9fb-4131-8cef-874786deb9fe",
   "metadata": {},
   "outputs": [],
   "source": [
    "# Check for variance/std in data point Count\n",
    "\n",
    "varList = []\n",
    "for date in pd.unique(dfPrice['price_date']):\n",
    "    print(str(date) + ':', len(dfPrice.loc[dfPrice['price_date'] == date]))\n",
    "    varList.append(len(dfPrice.loc[dfPrice['price_date'] == date]))\n",
    "    \n",
    "print(np.std(varList))"
   ]
  }
 ],
 "metadata": {
  "kernelspec": {
   "display_name": "Python 3",
   "language": "python",
   "name": "python3"
  },
  "language_info": {
   "codemirror_mode": {
    "name": "ipython",
    "version": 3
   },
   "file_extension": ".py",
   "mimetype": "text/x-python",
   "name": "python",
   "nbconvert_exporter": "python",
   "pygments_lexer": "ipython3",
   "version": "3.9.4"
  }
 },
 "nbformat": 4,
 "nbformat_minor": 5
}
