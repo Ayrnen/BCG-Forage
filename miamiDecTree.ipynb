{
 "cells": [
  {
   "cell_type": "code",
   "execution_count": 1,
   "id": "039c07c6-b33a-41d2-b56f-3e17de2e1da8",
   "metadata": {},
   "outputs": [],
   "source": [
    "import pandas as pd\n",
    "import numpy as np"
   ]
  },
  {
   "cell_type": "markdown",
   "id": "0ff9e5aa-8cb2-40c7-9a61-9f7cf2dbcf54",
   "metadata": {},
   "source": [
    "## Import data -> process data with linear regression knowledge"
   ]
  },
  {
   "cell_type": "code",
   "execution_count": 2,
   "id": "4b5a518a-63b1-4d94-8f88-23d0b1633cf4",
   "metadata": {},
   "outputs": [],
   "source": [
    "df = pd.read_csv('miamiHousePriceData.csv')"
   ]
  },
  {
   "cell_type": "code",
   "execution_count": 3,
   "id": "e813d359-4c59-44a3-936a-b756295be807",
   "metadata": {},
   "outputs": [],
   "source": [
    "df = pd.read_csv('miamiHousePriceData.csv', thousands=',')\n",
    "df.drop(['LATITUDE', 'LONGITUDE', 'PARCELNO'], axis = 1, inplace = True)\n",
    "df['AVNO60PLUS'] = df['AVNO60PLUS'].astype(str)\n",
    "df['MONTH_SOLD'] = df['MONTH_SOLD'].astype(str)\n",
    "df['STRUCTURE_QUALITY'] = df['STRUCTURE_QUALITY'].astype(str)"
   ]
  },
  {
   "cell_type": "code",
   "execution_count": 4,
   "id": "ab54fa6a-efb9-4537-a7c3-b7437506fbf1",
   "metadata": {},
   "outputs": [],
   "source": [
    "from sklearn.model_selection import train_test_split\n",
    "\n",
    "X = df.drop(['LND_SQFOOT', 'WATER_DIST', 'RAIL_DIST', 'CNTR_DIST', 'SALE_PRC'], axis=1)\n",
    "y = df['SALE_PRC']\n",
    "\n",
    "X_train, X_test, y_train, y_test = train_test_split(X, y, test_size = 0.2, random_state=42)"
   ]
  },
  {
   "cell_type": "code",
   "execution_count": 5,
   "id": "a69a66ee-7131-4e48-8a7d-00490182b8c7",
   "metadata": {},
   "outputs": [],
   "source": [
    "from sklearn.tree import DecisionTreeRegressor\n",
    "from sklearn import metrics"
   ]
  },
  {
   "cell_type": "code",
   "execution_count": 7,
   "id": "3c84ec7c-59e1-44e3-b0e6-309b467941f6",
   "metadata": {},
   "outputs": [],
   "source": [
    "def printResults(clf):\n",
    "    print(f\"R^2:  train: {round(clf.score(X_train, y_train), 3)} | test: {round(clf.score(X_test, y_test), 3)}\")\n",
    "    print(f\"MAE:  train: {round(metrics.mean_absolute_error(y_train, clf.predict(X_train)))}  | test: {round(metrics.mean_absolute_error(y_test, clf.predict(X_test)))}\")\n",
    "    print(f\"RMSE: train: {round(np.sqrt(metrics.mean_squared_error(y_train, clf.predict(X_train))))} | test: {round(np.sqrt(metrics.mean_squared_error(y_test, clf.predict(X_test))))}\")"
   ]
  },
  {
   "cell_type": "markdown",
   "id": "ca54a8f8-617b-4c67-af42-eea19820dc40",
   "metadata": {},
   "source": [
    "## Fully Developed Tree: Heavily Overfitted"
   ]
  },
  {
   "cell_type": "code",
   "execution_count": 30,
   "id": "83a0c87c-f422-4bb7-8a70-6168974f3239",
   "metadata": {},
   "outputs": [
    {
     "name": "stdout",
     "output_type": "stream",
     "text": [
      "R^2:  train: 1.0 | test: 0.718\n",
      "MAE:  train: 11  | test: 80220\n",
      "RMSE: train: 381 | test: 166513\n"
     ]
    }
   ],
   "source": [
    "clf = DecisionTreeRegressor()\n",
    "\n",
    "clf = clf.fit(X_train,y_train)\n",
    "printResults(clf)"
   ]
  },
  {
   "cell_type": "code",
   "execution_count": 34,
   "id": "bd5cf13e-2437-489b-9f9b-5bd7fa636e47",
   "metadata": {},
   "outputs": [
    {
     "name": "stdout",
     "output_type": "stream",
     "text": [
      "R^2:  train: 0.75 | test: 0.75\n",
      "MAE:  train: 81210  | test: 85777\n",
      "RMSE: train: 159002 | test: 156749\n"
     ]
    }
   ],
   "source": [
    "clf = DecisionTreeRegressor(min_samples_leaf = .01)\n",
    "\n",
    "clf = clf.fit(X_train,y_train)\n",
    "printResults(clf)"
   ]
  },
  {
   "cell_type": "markdown",
   "id": "fa1e26f5-d923-4d32-94bc-0e39ced30e03",
   "metadata": {},
   "source": [
    "## Regression Tree produces a better result than the linear regression model accross all criteria"
   ]
  }
 ],
 "metadata": {
  "kernelspec": {
   "display_name": "Python 3",
   "language": "python",
   "name": "python3"
  },
  "language_info": {
   "codemirror_mode": {
    "name": "ipython",
    "version": 3
   },
   "file_extension": ".py",
   "mimetype": "text/x-python",
   "name": "python",
   "nbconvert_exporter": "python",
   "pygments_lexer": "ipython3",
   "version": "3.9.4"
  }
 },
 "nbformat": 4,
 "nbformat_minor": 5
}
