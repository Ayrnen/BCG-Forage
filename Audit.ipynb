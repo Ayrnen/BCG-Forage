{
 "cells": [
  {
   "cell_type": "code",
   "execution_count": 1,
   "id": "0f442ee5-8984-4dec-b696-f85b9f8b0660",
   "metadata": {},
   "outputs": [],
   "source": [
    "import pandas as pd\n",
    "import numpy as np\n",
    "import matplotlib.pyplot as plt\n",
    "import seaborn as sns"
   ]
  },
  {
   "cell_type": "markdown",
   "id": "ea4ac28c-ebb9-4bd5-82a6-e59fd37967f0",
   "metadata": {},
   "source": [
    "# EDA"
   ]
  },
  {
   "cell_type": "code",
   "execution_count": 2,
   "id": "211ccbeb-6fb8-408f-b0c4-9a4c0d0b27da",
   "metadata": {},
   "outputs": [],
   "source": [
    "df = pd.read_csv(r'AuditData.csv')"
   ]
  },
  {
   "cell_type": "code",
   "execution_count": 3,
   "id": "25b5b349-b347-4e1e-bd10-61eb4916e897",
   "metadata": {},
   "outputs": [
    {
     "data": {
      "text/html": [
       "<div>\n",
       "<style scoped>\n",
       "    .dataframe tbody tr th:only-of-type {\n",
       "        vertical-align: middle;\n",
       "    }\n",
       "\n",
       "    .dataframe tbody tr th {\n",
       "        vertical-align: top;\n",
       "    }\n",
       "\n",
       "    .dataframe thead th {\n",
       "        text-align: right;\n",
       "    }\n",
       "</style>\n",
       "<table border=\"1\" class=\"dataframe\">\n",
       "  <thead>\n",
       "    <tr style=\"text-align: right;\">\n",
       "      <th></th>\n",
       "      <th>LOCATION_ID</th>\n",
       "      <th>PARA_A</th>\n",
       "      <th>PARA_B</th>\n",
       "      <th>TOTAL</th>\n",
       "      <th>NUMBER</th>\n",
       "      <th>MONEY_VALUE</th>\n",
       "      <th>SECTOR_SCORE</th>\n",
       "      <th>DISTRICT_SCORE</th>\n",
       "      <th>HISTORY</th>\n",
       "      <th>RISK_FLAG</th>\n",
       "    </tr>\n",
       "  </thead>\n",
       "  <tbody>\n",
       "    <tr>\n",
       "      <th>0</th>\n",
       "      <td>23</td>\n",
       "      <td>4.18</td>\n",
       "      <td>2.50</td>\n",
       "      <td>6.68</td>\n",
       "      <td>5.0</td>\n",
       "      <td>3.38</td>\n",
       "      <td>3.89</td>\n",
       "      <td>2</td>\n",
       "      <td>0</td>\n",
       "      <td>1</td>\n",
       "    </tr>\n",
       "    <tr>\n",
       "      <th>1</th>\n",
       "      <td>6</td>\n",
       "      <td>0.00</td>\n",
       "      <td>4.83</td>\n",
       "      <td>4.83</td>\n",
       "      <td>5.0</td>\n",
       "      <td>0.94</td>\n",
       "      <td>3.89</td>\n",
       "      <td>2</td>\n",
       "      <td>0</td>\n",
       "      <td>0</td>\n",
       "    </tr>\n",
       "    <tr>\n",
       "      <th>2</th>\n",
       "      <td>6</td>\n",
       "      <td>0.51</td>\n",
       "      <td>0.23</td>\n",
       "      <td>0.74</td>\n",
       "      <td>5.0</td>\n",
       "      <td>0.00</td>\n",
       "      <td>3.89</td>\n",
       "      <td>2</td>\n",
       "      <td>0</td>\n",
       "      <td>0</td>\n",
       "    </tr>\n",
       "    <tr>\n",
       "      <th>3</th>\n",
       "      <td>6</td>\n",
       "      <td>0.00</td>\n",
       "      <td>10.80</td>\n",
       "      <td>10.80</td>\n",
       "      <td>6.0</td>\n",
       "      <td>11.75</td>\n",
       "      <td>3.89</td>\n",
       "      <td>2</td>\n",
       "      <td>0</td>\n",
       "      <td>1</td>\n",
       "    </tr>\n",
       "    <tr>\n",
       "      <th>4</th>\n",
       "      <td>6</td>\n",
       "      <td>0.00</td>\n",
       "      <td>0.08</td>\n",
       "      <td>0.08</td>\n",
       "      <td>5.0</td>\n",
       "      <td>0.00</td>\n",
       "      <td>3.89</td>\n",
       "      <td>2</td>\n",
       "      <td>0</td>\n",
       "      <td>0</td>\n",
       "    </tr>\n",
       "  </tbody>\n",
       "</table>\n",
       "</div>"
      ],
      "text/plain": [
       "  LOCATION_ID  PARA_A  PARA_B  TOTAL  NUMBER  MONEY_VALUE  SECTOR_SCORE  \\\n",
       "0          23    4.18    2.50   6.68     5.0         3.38          3.89   \n",
       "1           6    0.00    4.83   4.83     5.0         0.94          3.89   \n",
       "2           6    0.51    0.23   0.74     5.0         0.00          3.89   \n",
       "3           6    0.00   10.80  10.80     6.0        11.75          3.89   \n",
       "4           6    0.00    0.08   0.08     5.0         0.00          3.89   \n",
       "\n",
       "   DISTRICT_SCORE  HISTORY  RISK_FLAG  \n",
       "0               2        0          1  \n",
       "1               2        0          0  \n",
       "2               2        0          0  \n",
       "3               2        0          1  \n",
       "4               2        0          0  "
      ]
     },
     "execution_count": 3,
     "metadata": {},
     "output_type": "execute_result"
    }
   ],
   "source": [
    "df.head()"
   ]
  },
  {
   "cell_type": "code",
   "execution_count": 4,
   "id": "da0c97c3-9e0d-46e8-9729-81df4fa25c35",
   "metadata": {},
   "outputs": [
    {
     "data": {
      "text/plain": [
       "(776, 10)"
      ]
     },
     "execution_count": 4,
     "metadata": {},
     "output_type": "execute_result"
    }
   ],
   "source": [
    "df.shape"
   ]
  },
  {
   "cell_type": "code",
   "execution_count": 5,
   "id": "3d70979d-3487-4175-b71c-acc5b8bd231b",
   "metadata": {},
   "outputs": [
    {
     "data": {
      "text/html": [
       "<div>\n",
       "<style scoped>\n",
       "    .dataframe tbody tr th:only-of-type {\n",
       "        vertical-align: middle;\n",
       "    }\n",
       "\n",
       "    .dataframe tbody tr th {\n",
       "        vertical-align: top;\n",
       "    }\n",
       "\n",
       "    .dataframe thead th {\n",
       "        text-align: right;\n",
       "    }\n",
       "</style>\n",
       "<table border=\"1\" class=\"dataframe\">\n",
       "  <thead>\n",
       "    <tr style=\"text-align: right;\">\n",
       "      <th></th>\n",
       "      <th>PARA_A</th>\n",
       "      <th>PARA_B</th>\n",
       "      <th>TOTAL</th>\n",
       "      <th>NUMBER</th>\n",
       "      <th>MONEY_VALUE</th>\n",
       "      <th>SECTOR_SCORE</th>\n",
       "      <th>DISTRICT_SCORE</th>\n",
       "      <th>HISTORY</th>\n",
       "      <th>RISK_FLAG</th>\n",
       "    </tr>\n",
       "  </thead>\n",
       "  <tbody>\n",
       "    <tr>\n",
       "      <th>count</th>\n",
       "      <td>776.000000</td>\n",
       "      <td>776.000000</td>\n",
       "      <td>776.000000</td>\n",
       "      <td>776.000000</td>\n",
       "      <td>776.000000</td>\n",
       "      <td>776.000000</td>\n",
       "      <td>776.000000</td>\n",
       "      <td>776.000000</td>\n",
       "      <td>776.000000</td>\n",
       "    </tr>\n",
       "    <tr>\n",
       "      <th>mean</th>\n",
       "      <td>2.450194</td>\n",
       "      <td>10.799988</td>\n",
       "      <td>13.218481</td>\n",
       "      <td>5.067655</td>\n",
       "      <td>14.119412</td>\n",
       "      <td>20.184536</td>\n",
       "      <td>2.505155</td>\n",
       "      <td>0.104381</td>\n",
       "      <td>0.393041</td>\n",
       "    </tr>\n",
       "    <tr>\n",
       "      <th>std</th>\n",
       "      <td>5.678870</td>\n",
       "      <td>50.083624</td>\n",
       "      <td>51.312829</td>\n",
       "      <td>0.264449</td>\n",
       "      <td>66.565468</td>\n",
       "      <td>24.319017</td>\n",
       "      <td>1.228678</td>\n",
       "      <td>0.531031</td>\n",
       "      <td>0.488741</td>\n",
       "    </tr>\n",
       "    <tr>\n",
       "      <th>min</th>\n",
       "      <td>0.000000</td>\n",
       "      <td>0.000000</td>\n",
       "      <td>0.000000</td>\n",
       "      <td>5.000000</td>\n",
       "      <td>0.000000</td>\n",
       "      <td>1.850000</td>\n",
       "      <td>2.000000</td>\n",
       "      <td>0.000000</td>\n",
       "      <td>0.000000</td>\n",
       "    </tr>\n",
       "    <tr>\n",
       "      <th>25%</th>\n",
       "      <td>0.210000</td>\n",
       "      <td>0.000000</td>\n",
       "      <td>0.537500</td>\n",
       "      <td>5.000000</td>\n",
       "      <td>0.000000</td>\n",
       "      <td>2.370000</td>\n",
       "      <td>2.000000</td>\n",
       "      <td>0.000000</td>\n",
       "      <td>0.000000</td>\n",
       "    </tr>\n",
       "    <tr>\n",
       "      <th>50%</th>\n",
       "      <td>0.875000</td>\n",
       "      <td>0.405000</td>\n",
       "      <td>1.370000</td>\n",
       "      <td>5.000000</td>\n",
       "      <td>0.090000</td>\n",
       "      <td>3.890000</td>\n",
       "      <td>2.000000</td>\n",
       "      <td>0.000000</td>\n",
       "      <td>0.000000</td>\n",
       "    </tr>\n",
       "    <tr>\n",
       "      <th>75%</th>\n",
       "      <td>2.480000</td>\n",
       "      <td>4.160000</td>\n",
       "      <td>7.707500</td>\n",
       "      <td>5.000000</td>\n",
       "      <td>5.587500</td>\n",
       "      <td>55.570000</td>\n",
       "      <td>2.000000</td>\n",
       "      <td>0.000000</td>\n",
       "      <td>1.000000</td>\n",
       "    </tr>\n",
       "    <tr>\n",
       "      <th>max</th>\n",
       "      <td>85.000000</td>\n",
       "      <td>1264.630000</td>\n",
       "      <td>1268.910000</td>\n",
       "      <td>9.000000</td>\n",
       "      <td>935.030000</td>\n",
       "      <td>59.850000</td>\n",
       "      <td>6.000000</td>\n",
       "      <td>9.000000</td>\n",
       "      <td>1.000000</td>\n",
       "    </tr>\n",
       "  </tbody>\n",
       "</table>\n",
       "</div>"
      ],
      "text/plain": [
       "           PARA_A       PARA_B        TOTAL      NUMBER  MONEY_VALUE  \\\n",
       "count  776.000000   776.000000   776.000000  776.000000   776.000000   \n",
       "mean     2.450194    10.799988    13.218481    5.067655    14.119412   \n",
       "std      5.678870    50.083624    51.312829    0.264449    66.565468   \n",
       "min      0.000000     0.000000     0.000000    5.000000     0.000000   \n",
       "25%      0.210000     0.000000     0.537500    5.000000     0.000000   \n",
       "50%      0.875000     0.405000     1.370000    5.000000     0.090000   \n",
       "75%      2.480000     4.160000     7.707500    5.000000     5.587500   \n",
       "max     85.000000  1264.630000  1268.910000    9.000000   935.030000   \n",
       "\n",
       "       SECTOR_SCORE  DISTRICT_SCORE     HISTORY   RISK_FLAG  \n",
       "count    776.000000      776.000000  776.000000  776.000000  \n",
       "mean      20.184536        2.505155    0.104381    0.393041  \n",
       "std       24.319017        1.228678    0.531031    0.488741  \n",
       "min        1.850000        2.000000    0.000000    0.000000  \n",
       "25%        2.370000        2.000000    0.000000    0.000000  \n",
       "50%        3.890000        2.000000    0.000000    0.000000  \n",
       "75%       55.570000        2.000000    0.000000    1.000000  \n",
       "max       59.850000        6.000000    9.000000    1.000000  "
      ]
     },
     "execution_count": 5,
     "metadata": {},
     "output_type": "execute_result"
    }
   ],
   "source": [
    "df.describe()"
   ]
  },
  {
   "cell_type": "markdown",
   "id": "73c38b22-833d-461d-b746-8925b5fd5c3f",
   "metadata": {},
   "source": [
    "### No Notable Findings"
   ]
  },
  {
   "cell_type": "code",
   "execution_count": 6,
   "id": "b185c844-0411-4f1b-b704-bc207d00ce69",
   "metadata": {},
   "outputs": [
    {
     "name": "stdout",
     "output_type": "stream",
     "text": [
      "<class 'pandas.core.frame.DataFrame'>\n",
      "RangeIndex: 776 entries, 0 to 775\n",
      "Data columns (total 10 columns):\n",
      " #   Column          Non-Null Count  Dtype  \n",
      "---  ------          --------------  -----  \n",
      " 0   LOCATION_ID     776 non-null    object \n",
      " 1   PARA_A          776 non-null    float64\n",
      " 2   PARA_B          776 non-null    float64\n",
      " 3   TOTAL           776 non-null    float64\n",
      " 4   NUMBER          776 non-null    float64\n",
      " 5   MONEY_VALUE     776 non-null    float64\n",
      " 6   SECTOR_SCORE    776 non-null    float64\n",
      " 7   DISTRICT_SCORE  776 non-null    int64  \n",
      " 8   HISTORY         776 non-null    int64  \n",
      " 9   RISK_FLAG       776 non-null    int64  \n",
      "dtypes: float64(6), int64(3), object(1)\n",
      "memory usage: 60.8+ KB\n"
     ]
    }
   ],
   "source": [
    "df.info()"
   ]
  },
  {
   "cell_type": "markdown",
   "id": "41c03677-330c-4c2a-b9c9-46d38107efe2",
   "metadata": {},
   "source": [
    "### Notes\n",
    " - No nulls in any columns\n",
    " - Data Types are consistent and correct\n",
    " \n",
    " -----\n",
    " "
   ]
  },
  {
   "cell_type": "markdown",
   "id": "e748c380-6644-4eba-b72f-497d3b43437b",
   "metadata": {},
   "source": [
    "# Model Building Foundation   "
   ]
  },
  {
   "cell_type": "markdown",
   "id": "e6b9b53e-1c2e-4b1b-b1b0-0b8ff0fa5d0b",
   "metadata": {},
   "source": [
    "###  Target Variable Provided: **RISK_FLAG**\n",
    "####  - Utilize Supervised, Classification Model\n",
    "####  - Find Independent Variables"
   ]
  },
  {
   "cell_type": "code",
   "execution_count": 7,
   "id": "23e84e0f-50fe-4d73-b879-9bf99803b553",
   "metadata": {},
   "outputs": [
    {
     "data": {
      "text/plain": [
       "<AxesSubplot:>"
      ]
     },
     "execution_count": 7,
     "metadata": {},
     "output_type": "execute_result"
    },
    {
     "data": {
      "image/png": "[encoded data removed]",
      "text/plain": [
       "<Figure size 432x288 with 2 Axes>"
      ]
     },
     "metadata": {
      "needs_background": "light"
     },
     "output_type": "display_data"
    }
   ],
   "source": [
    "sns.heatmap(df.corr(), annot=True, cmap='bwr')"
   ]
  },
  {
   "cell_type": "markdown",
   "id": "68b802ac-2cd3-438e-830b-f56a633afb54",
   "metadata": {},
   "source": [
    "### All numerical variables have a potentially significant correlation with RISK_FLAG"
   ]
  },
  {
   "cell_type": "markdown",
   "id": "fc9175f3-01ce-45a0-834f-636c2aeb4a62",
   "metadata": {},
   "source": [
    "## Find variables with high multicollinearity using VIF"
   ]
  },
  {
   "cell_type": "code",
   "execution_count": 8,
   "id": "409d42a8-286f-4f3b-b121-c0b72c8c2a79",
   "metadata": {},
   "outputs": [],
   "source": [
    "from statsmodels.stats.outliers_influence import variance_inflation_factor"
   ]
  },
  {
   "cell_type": "code",
   "execution_count": 9,
   "id": "4a0e3b1d-780f-4555-9fa7-7f641a241a10",
   "metadata": {},
   "outputs": [
    {
     "name": "stdout",
     "output_type": "stream",
     "text": [
      "         features   vif_Factor\n",
      "0          PARA_A    72.858690\n",
      "1          PARA_B  4918.512344\n",
      "2           TOTAL  5251.253361\n",
      "3          NUMBER     6.588942\n",
      "4     MONEY_VALUE     1.366653\n",
      "5    SECTOR_SCORE     1.789091\n",
      "6  DISTRICT_SCORE     5.424703\n",
      "7         HISTORY     1.106462\n"
     ]
    }
   ],
   "source": [
    "X=df.drop(['LOCATION_ID', 'RISK_FLAG'], axis=1)\n",
    "vif = pd.DataFrame()\n",
    "vif[\"features\"] = X.columns\n",
    "vif[\"vif_Factor\"] = [variance_inflation_factor(X.values, i) for i in range(X.shape[1])]\n",
    "print(vif)"
   ]
  },
  {
   "cell_type": "markdown",
   "id": "74aef8ce-8ed4-4055-a5ed-e061e49279f0",
   "metadata": {},
   "source": [
    "### Remove TOTAL, made up of PARA_A AND PARA_B summation"
   ]
  },
  {
   "cell_type": "code",
   "execution_count": 10,
   "id": "df6bbe9b-7767-4637-ad3e-133f60e652a2",
   "metadata": {},
   "outputs": [
    {
     "name": "stdout",
     "output_type": "stream",
     "text": [
      "         features  vif_Factor\n",
      "0          PARA_A    1.576117\n",
      "1          PARA_B    1.130444\n",
      "2          NUMBER    6.529303\n",
      "3     MONEY_VALUE    1.319161\n",
      "4    SECTOR_SCORE    1.788305\n",
      "5  DISTRICT_SCORE    5.363164\n",
      "6         HISTORY    1.102446\n"
     ]
    }
   ],
   "source": [
    "X=df.drop(['LOCATION_ID', 'RISK_FLAG', 'TOTAL'], axis=1)\n",
    "vif = pd.DataFrame()\n",
    "vif[\"features\"] = X.columns\n",
    "vif[\"vif_Factor\"] = [variance_inflation_factor(X.values, i) for i in range(X.shape[1])]\n",
    "print(vif)"
   ]
  },
  {
   "cell_type": "markdown",
   "id": "64de4c5e-56e2-48cc-a42e-8018bff77cc7",
   "metadata": {},
   "source": [
    "### Target VIF <10 achieved\n",
    "### Initial set of independent variables found\n",
    "----"
   ]
  },
  {
   "cell_type": "markdown",
   "id": "cf3a3286-d1bb-4674-8d05-9bcd4f6559a0",
   "metadata": {},
   "source": [
    "# KNN Model"
   ]
  },
  {
   "cell_type": "code",
   "execution_count": 11,
   "id": "5a303a57-d9a0-431a-8f89-391ca64e7e3d",
   "metadata": {},
   "outputs": [],
   "source": [
    "from sklearn.neighbors import KNeighborsClassifier\n",
    "from sklearn.model_selection import train_test_split\n",
    "from sklearn.preprocessing import StandardScaler\n",
    "from sklearn.model_selection import cross_val_score"
   ]
  },
  {
   "cell_type": "code",
   "execution_count": 12,
   "id": "d0d362a4-ea6a-4a3e-900e-927384c2b765",
   "metadata": {},
   "outputs": [
    {
     "data": {
      "text/html": [
       "<div>\n",
       "<style scoped>\n",
       "    .dataframe tbody tr th:only-of-type {\n",
       "        vertical-align: middle;\n",
       "    }\n",
       "\n",
       "    .dataframe tbody tr th {\n",
       "        vertical-align: top;\n",
       "    }\n",
       "\n",
       "    .dataframe thead th {\n",
       "        text-align: right;\n",
       "    }\n",
       "</style>\n",
       "<table border=\"1\" class=\"dataframe\">\n",
       "  <thead>\n",
       "    <tr style=\"text-align: right;\">\n",
       "      <th></th>\n",
       "      <th>LOCATION_ID</th>\n",
       "      <th>PARA_A</th>\n",
       "      <th>PARA_B</th>\n",
       "      <th>TOTAL</th>\n",
       "      <th>NUMBER</th>\n",
       "      <th>MONEY_VALUE</th>\n",
       "      <th>SECTOR_SCORE</th>\n",
       "      <th>DISTRICT_SCORE</th>\n",
       "      <th>HISTORY</th>\n",
       "      <th>RISK_FLAG</th>\n",
       "    </tr>\n",
       "  </thead>\n",
       "  <tbody>\n",
       "    <tr>\n",
       "      <th>0</th>\n",
       "      <td>23</td>\n",
       "      <td>4.18</td>\n",
       "      <td>2.50</td>\n",
       "      <td>6.68</td>\n",
       "      <td>5.0</td>\n",
       "      <td>3.38</td>\n",
       "      <td>3.89</td>\n",
       "      <td>2</td>\n",
       "      <td>0</td>\n",
       "      <td>1</td>\n",
       "    </tr>\n",
       "    <tr>\n",
       "      <th>1</th>\n",
       "      <td>6</td>\n",
       "      <td>0.00</td>\n",
       "      <td>4.83</td>\n",
       "      <td>4.83</td>\n",
       "      <td>5.0</td>\n",
       "      <td>0.94</td>\n",
       "      <td>3.89</td>\n",
       "      <td>2</td>\n",
       "      <td>0</td>\n",
       "      <td>0</td>\n",
       "    </tr>\n",
       "    <tr>\n",
       "      <th>2</th>\n",
       "      <td>6</td>\n",
       "      <td>0.51</td>\n",
       "      <td>0.23</td>\n",
       "      <td>0.74</td>\n",
       "      <td>5.0</td>\n",
       "      <td>0.00</td>\n",
       "      <td>3.89</td>\n",
       "      <td>2</td>\n",
       "      <td>0</td>\n",
       "      <td>0</td>\n",
       "    </tr>\n",
       "    <tr>\n",
       "      <th>3</th>\n",
       "      <td>6</td>\n",
       "      <td>0.00</td>\n",
       "      <td>10.80</td>\n",
       "      <td>10.80</td>\n",
       "      <td>6.0</td>\n",
       "      <td>11.75</td>\n",
       "      <td>3.89</td>\n",
       "      <td>2</td>\n",
       "      <td>0</td>\n",
       "      <td>1</td>\n",
       "    </tr>\n",
       "    <tr>\n",
       "      <th>4</th>\n",
       "      <td>6</td>\n",
       "      <td>0.00</td>\n",
       "      <td>0.08</td>\n",
       "      <td>0.08</td>\n",
       "      <td>5.0</td>\n",
       "      <td>0.00</td>\n",
       "      <td>3.89</td>\n",
       "      <td>2</td>\n",
       "      <td>0</td>\n",
       "      <td>0</td>\n",
       "    </tr>\n",
       "  </tbody>\n",
       "</table>\n",
       "</div>"
      ],
      "text/plain": [
       "  LOCATION_ID  PARA_A  PARA_B  TOTAL  NUMBER  MONEY_VALUE  SECTOR_SCORE  \\\n",
       "0          23    4.18    2.50   6.68     5.0         3.38          3.89   \n",
       "1           6    0.00    4.83   4.83     5.0         0.94          3.89   \n",
       "2           6    0.51    0.23   0.74     5.0         0.00          3.89   \n",
       "3           6    0.00   10.80  10.80     6.0        11.75          3.89   \n",
       "4           6    0.00    0.08   0.08     5.0         0.00          3.89   \n",
       "\n",
       "   DISTRICT_SCORE  HISTORY  RISK_FLAG  \n",
       "0               2        0          1  \n",
       "1               2        0          0  \n",
       "2               2        0          0  \n",
       "3               2        0          1  \n",
       "4               2        0          0  "
      ]
     },
     "execution_count": 12,
     "metadata": {},
     "output_type": "execute_result"
    }
   ],
   "source": [
    "df.head()"
   ]
  },
  {
   "cell_type": "code",
   "execution_count": 13,
   "id": "46b377bf-5af5-4938-8a99-1b3b819ff9e5",
   "metadata": {},
   "outputs": [],
   "source": [
    "# Split independent and target varaibles\n",
    "X = df.drop(['RISK_FLAG', 'LOCATION_ID'], axis=1)\n",
    "y = df['RISK_FLAG']"
   ]
  },
  {
   "cell_type": "code",
   "execution_count": 14,
   "id": "2327d77a-07a3-4cd5-9392-45aa7cb66187",
   "metadata": {},
   "outputs": [],
   "source": [
    "# Split into training and test set\n",
    "X_train, X_test, y_train, y_test = train_test_split(X, y, test_size = 0.2, random_state=42)"
   ]
  },
  {
   "cell_type": "code",
   "execution_count": 15,
   "id": "fa88bd5f-90c7-482c-bc6e-0f20151bc221",
   "metadata": {},
   "outputs": [],
   "source": [
    "# Scale data\n",
    "scaler = StandardScaler()\n",
    "X_train = scaler.fit_transform(X_train)\n",
    "X_test = scaler.transform(X_test)"
   ]
  },
  {
   "cell_type": "code",
   "execution_count": 16,
   "id": "7fae09ae-f199-431c-abe2-e782ee6342ef",
   "metadata": {},
   "outputs": [
    {
     "data": {
      "text/plain": [
       "Text(0, 0.5, 'Accuracy Score')"
      ]
     },
     "execution_count": 16,
     "metadata": {},
     "output_type": "execute_result"
    },
    {
     "data": {
      "image/png": "[encoded data removed]",
      "text/plain": [
       "<Figure size 432x288 with 1 Axes>"
      ]
     },
     "metadata": {
      "needs_background": "light"
     },
     "output_type": "display_data"
    }
   ],
   "source": [
    "# Find optimal k value using cross validation\n",
    "k_values = [i for i in range (1,31)]\n",
    "scores = []\n",
    "\n",
    "X = scaler.fit_transform(X)\n",
    "\n",
    "for k in k_values:\n",
    "    knn = KNeighborsClassifier(n_neighbors=k)\n",
    "    score = cross_val_score(knn, X, y, cv=5)\n",
    "    scores.append(np.mean(score))\n",
    "    \n",
    "sns.lineplot(x = k_values, y = scores, marker = 'o')\n",
    "plt.xlabel(\"k - value\")\n",
    "plt.ylabel(\"Accuracy Score\")"
   ]
  },
  {
   "cell_type": "code",
   "execution_count": 17,
   "id": "634bd9e8-7300-412d-9f3d-6d2b35f04d27",
   "metadata": {},
   "outputs": [
    {
     "data": {
      "text/html": [
       "<style>#sk-container-id-1 {color: black;background-color: white;}#sk-container-id-1 pre{padding: 0;}#sk-container-id-1 div.sk-toggleable {background-color: white;}#sk-container-id-1 label.sk-toggleable__label {cursor: pointer;display: block;width: 100%;margin-bottom: 0;padding: 0.3em;box-sizing: border-box;text-align: center;}#sk-container-id-1 label.sk-toggleable__label-arrow:before {content: \"▸\";float: left;margin-right: 0.25em;color: #696969;}#sk-container-id-1 label.sk-toggleable__label-arrow:hover:before {color: black;}#sk-container-id-1 div.sk-estimator:hover label.sk-toggleable__label-arrow:before {color: black;}#sk-container-id-1 div.sk-toggleable__content {max-height: 0;max-width: 0;overflow: hidden;text-align: left;background-color: #f0f8ff;}#sk-container-id-1 div.sk-toggleable__content pre {margin: 0.2em;color: black;border-radius: 0.25em;background-color: #f0f8ff;}#sk-container-id-1 input.sk-toggleable__control:checked~div.sk-toggleable__content {max-height: 200px;max-width: 100%;overflow: auto;}#sk-container-id-1 input.sk-toggleable__control:checked~label.sk-toggleable__label-arrow:before {content: \"▾\";}#sk-container-id-1 div.sk-estimator input.sk-toggleable__control:checked~label.sk-toggleable__label {background-color: #d4ebff;}#sk-container-id-1 div.sk-label input.sk-toggleable__control:checked~label.sk-toggleable__label {background-color: #d4ebff;}#sk-container-id-1 input.sk-hidden--visually {border: 0;clip: rect(1px 1px 1px 1px);clip: rect(1px, 1px, 1px, 1px);height: 1px;margin: -1px;overflow: hidden;padding: 0;position: absolute;width: 1px;}#sk-container-id-1 div.sk-estimator {font-family: monospace;background-color: #f0f8ff;border: 1px dotted black;border-radius: 0.25em;box-sizing: border-box;margin-bottom: 0.5em;}#sk-container-id-1 div.sk-estimator:hover {background-color: #d4ebff;}#sk-container-id-1 div.sk-parallel-item::after {content: \"\";width: 100%;border-bottom: 1px solid gray;flex-grow: 1;}#sk-container-id-1 div.sk-label:hover label.sk-toggleable__label {background-color: #d4ebff;}#sk-container-id-1 div.sk-serial::before {content: \"\";position: absolute;border-left: 1px solid gray;box-sizing: border-box;top: 0;bottom: 0;left: 50%;z-index: 0;}#sk-container-id-1 div.sk-serial {display: flex;flex-direction: column;align-items: center;background-color: white;padding-right: 0.2em;padding-left: 0.2em;position: relative;}#sk-container-id-1 div.sk-item {position: relative;z-index: 1;}#sk-container-id-1 div.sk-parallel {display: flex;align-items: stretch;justify-content: center;background-color: white;position: relative;}#sk-container-id-1 div.sk-item::before, #sk-container-id-1 div.sk-parallel-item::before {content: \"\";position: absolute;border-left: 1px solid gray;box-sizing: border-box;top: 0;bottom: 0;left: 50%;z-index: -1;}#sk-container-id-1 div.sk-parallel-item {display: flex;flex-direction: column;z-index: 1;position: relative;background-color: white;}#sk-container-id-1 div.sk-parallel-item:first-child::after {align-self: flex-end;width: 50%;}#sk-container-id-1 div.sk-parallel-item:last-child::after {align-self: flex-start;width: 50%;}#sk-container-id-1 div.sk-parallel-item:only-child::after {width: 0;}#sk-container-id-1 div.sk-dashed-wrapped {border: 1px dashed gray;margin: 0 0.4em 0.5em 0.4em;box-sizing: border-box;padding-bottom: 0.4em;background-color: white;}#sk-container-id-1 div.sk-label label {font-family: monospace;font-weight: bold;display: inline-block;line-height: 1.2em;}#sk-container-id-1 div.sk-label-container {text-align: center;}#sk-container-id-1 div.sk-container {/* jupyter's `normalize.less` sets `[hidden] { display: none; }` but bootstrap.min.css set `[hidden] { display: none !important; }` so we also need the `!important` here to be able to override the default hidden behavior on the sphinx rendered scikit-learn.org. See: https://github.com/scikit-learn/scikit-learn/issues/21755 */display: inline-block !important;position: relative;}#sk-container-id-1 div.sk-text-repr-fallback {display: none;}</style><div id=\"sk-container-id-1\" class=\"sk-top-container\"><div class=\"sk-text-repr-fallback\"><pre>KNeighborsClassifier(n_neighbors=6)</pre><b>In a Jupyter environment, please rerun this cell to show the HTML representation or trust the notebook. <br />On GitHub, the HTML representation is unable to render, please try loading this page with nbviewer.org.</b></div><div class=\"sk-container\" hidden><div class=\"sk-item\"><div class=\"sk-estimator sk-toggleable\"><input class=\"sk-toggleable__control sk-hidden--visually\" id=\"sk-estimator-id-1\" type=\"checkbox\" checked><label for=\"sk-estimator-id-1\" class=\"sk-toggleable__label sk-toggleable__label-arrow\">KNeighborsClassifier</label><div class=\"sk-toggleable__content\"><pre>KNeighborsClassifier(n_neighbors=6)</pre></div></div></div></div></div>"
      ],
      "text/plain": [
       "KNeighborsClassifier(n_neighbors=6)"
      ]
     },
     "execution_count": 17,
     "metadata": {},
     "output_type": "execute_result"
    }
   ],
   "source": [
    "# Train model using optimal k value \n",
    "best_index = np.argmax(scores)\n",
    "best_k = k_values[best_index]\n",
    "\n",
    "knn = KNeighborsClassifier(n_neighbors=best_k)\n",
    "knn.fit(X_train, y_train)"
   ]
  },
  {
   "cell_type": "code",
   "execution_count": 18,
   "id": "bad7d653-cb6a-4d88-9795-b2fe717c698a",
   "metadata": {},
   "outputs": [
    {
     "name": "stdout",
     "output_type": "stream",
     "text": [
      "Accuracy: 0.97\n",
      "Precision: 1.0\n",
      "Recall: 0.93\n"
     ]
    }
   ],
   "source": [
    "# Model Evaluation\n",
    "from sklearn.metrics import accuracy_score\n",
    "from sklearn.metrics import precision_score\n",
    "from sklearn.metrics import recall_score\n",
    "\n",
    "y_pred = knn.predict(X_test)\n",
    "\n",
    "accuracy = accuracy_score(y_test, y_pred)\n",
    "precision = precision_score(y_test, y_pred)\n",
    "recall = recall_score(y_test, y_pred)\n",
    "\n",
    "print(\"Accuracy:\", round(accuracy, 2))\n",
    "print(\"Precision:\", round(precision, 2))\n",
    "print(\"Recall:\", round(recall, 2))"
   ]
  }
 ],
 "metadata": {
  "kernelspec": {
   "display_name": "Python 3",
   "language": "python",
   "name": "python3"
  },
  "language_info": {
   "codemirror_mode": {
    "name": "ipython",
    "version": 3
   },
   "file_extension": ".py",
   "mimetype": "text/x-python",
   "name": "python",
   "nbconvert_exporter": "python",
   "pygments_lexer": "ipython3",
   "version": "3.9.4"
  }
 },
 "nbformat": 4,
 "nbformat_minor": 5
}
