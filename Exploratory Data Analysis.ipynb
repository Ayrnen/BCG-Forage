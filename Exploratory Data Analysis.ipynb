{
 "cells": [
  {
   "cell_type": "code",
   "execution_count": 11,
   "id": "98806a1d-6d27-417c-8040-25a10b0491bc",
   "metadata": {},
   "outputs": [],
   "source": [
    "import pandas as pd\n",
    "import numpy as np"
   ]
  },
  {
   "cell_type": "code",
   "execution_count": 13,
   "id": "b2503355-10bf-4c2e-b6bb-1e6c6452fb90",
   "metadata": {},
   "outputs": [],
   "source": [
    "# Import CSV\n",
    "\n",
    "dfPrice = pd.read_csv(r'C:\\Users\\Aymen\\Desktop\\BCG Forage\\Task 2\\price_data.csv')"
   ]
  },
  {
   "cell_type": "code",
   "execution_count": 14,
   "id": "aa818569-6f6c-4716-9815-e7ba0618ebba",
   "metadata": {},
   "outputs": [
    {
     "name": "stdout",
     "output_type": "stream",
     "text": [
      "<class 'str'>\n"
     ]
    }
   ],
   "source": [
    "# Check to see price_date's type\n",
    "\n",
    "print(type(dfPrice['price_date'][0]))"
   ]
  },
  {
   "cell_type": "code",
   "execution_count": 35,
   "id": "ad1bfe91-7d72-477f-9597-757ef3a57d0c",
   "metadata": {},
   "outputs": [
    {
     "name": "stdout",
     "output_type": "stream",
     "text": [
      "Before: <class 'pandas._libs.tslibs.timestamps.Timestamp'>\n",
      "After <class 'pandas._libs.tslibs.timestamps.Timestamp'>\n"
     ]
    }
   ],
   "source": [
    "# Transform price_date to a date for queries\n",
    "\n",
    "print('Before:', type(dfPrice['price_date'][0]))\n",
    "dfPrice['price_date'] = pd.to_datetime(dfPrice['price_date'])\n",
    "print('After', type(dfPrice['price_date'][0]))"
   ]
  },
  {
   "cell_type": "code",
   "execution_count": null,
   "id": "ed82c392-2145-4fe2-9363-522b2d658a08",
   "metadata": {},
   "outputs": [],
   "source": [
    "# Make sure Days are only on first of every month for consistency.\n",
    "\n",
    "for date in pd.unique(dfPrice['price_date']):\n",
    "    if pd.to_datetime(date).day != 1:\n",
    "        print(date)\n",
    "        print('Not the first')"
   ]
  },
  {
   "cell_type": "code",
   "execution_count": null,
   "id": "3b3e76b6-4933-4479-8092-ba0cda411619",
   "metadata": {},
   "outputs": [],
   "source": [
    "# Check for variance/std in data point Count\n",
    "varList = []\n",
    "for date in pd.unique(dfPrice['price_date']):\n",
    "    print(str(date) + ':', len(dfPrice.loc[dfPrice['price_date'] == date]))\n",
    "    varList.append(len(dfPrice.loc[dfPrice['price_date'] == date]))\n",
    "    \n",
    "print(np.std(varList))"
   ]
  },
  {
   "cell_type": "code",
   "execution_count": null,
   "id": "46c6b6db-b340-4e14-ae5e-e66fd8fb24ab",
   "metadata": {},
   "outputs": [],
   "source": [
    "# Check for duplicates using ID and Date\n",
    "dfPriceDups = dfPrice[dfPrice.duplicated(['id', 'price_date'])]\n",
    "if len(dfPriceDups) == 0:\n",
    "    print('No Duplicates')\n",
    "else:\n",
    "    print('Duplicates Found!')"
   ]
  }
 ],
 "metadata": {
  "kernelspec": {
   "display_name": "Python 3",
   "language": "python",
   "name": "python3"
  },
  "language_info": {
   "codemirror_mode": {
    "name": "ipython",
    "version": 3
   },
   "file_extension": ".py",
   "mimetype": "text/x-python",
   "name": "python",
   "nbconvert_exporter": "python",
   "pygments_lexer": "ipython3",
   "version": "3.9.4"
  }
 },
 "nbformat": 4,
 "nbformat_minor": 5
}
