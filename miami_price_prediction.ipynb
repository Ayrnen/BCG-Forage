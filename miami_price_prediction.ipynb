{
 "cells": [
  {
   "cell_type": "code",
   "execution_count": 1,
   "id": "3b169cf5-7f72-4913-95f5-26daaf62914e",
   "metadata": {},
   "outputs": [],
   "source": [
    "import pandas as pd\n",
    "import numpy as np\n",
    "import matplotlib.pyplot as plt\n",
    "import seaborn as sns"
   ]
  },
  {
   "cell_type": "markdown",
   "id": "1b91f0c8-76af-4c8a-902c-72b9636b8106",
   "metadata": {},
   "source": [
    "## Pull and format data"
   ]
  },
  {
   "cell_type": "code",
   "execution_count": 2,
   "id": "9cc97d6e-d8ba-4572-9e3a-9ffe34f8b892",
   "metadata": {},
   "outputs": [],
   "source": [
    "df = pd.read_csv('miamiHousePriceData.csv')"
   ]
  },
  {
   "cell_type": "code",
   "execution_count": 3,
   "id": "a7e51c51-3ef0-452b-95a4-77a01d9136c1",
   "metadata": {},
   "outputs": [
    {
     "data": {
      "text/html": [
       "<div>\n",
       "<style scoped>\n",
       "    .dataframe tbody tr th:only-of-type {\n",
       "        vertical-align: middle;\n",
       "    }\n",
       "\n",
       "    .dataframe tbody tr th {\n",
       "        vertical-align: top;\n",
       "    }\n",
       "\n",
       "    .dataframe thead th {\n",
       "        text-align: right;\n",
       "    }\n",
       "</style>\n",
       "<table border=\"1\" class=\"dataframe\">\n",
       "  <thead>\n",
       "    <tr style=\"text-align: right;\">\n",
       "      <th></th>\n",
       "      <th>LATITUDE</th>\n",
       "      <th>LONGITUDE</th>\n",
       "      <th>PARCELNO</th>\n",
       "      <th>LND_SQFOOT</th>\n",
       "      <th>TOT_LVG_AREA</th>\n",
       "      <th>SPEC_FEAT_VAL</th>\n",
       "      <th>RAIL_DIST</th>\n",
       "      <th>OCEAN_DIST</th>\n",
       "      <th>WATER_DIST</th>\n",
       "      <th>CNTR_DIST</th>\n",
       "      <th>SUBCNTR_DI</th>\n",
       "      <th>HWY_DIST</th>\n",
       "      <th>AGE</th>\n",
       "      <th>AVNO60PLUS</th>\n",
       "      <th>MONTH_SOLD</th>\n",
       "      <th>STRUCTURE_QUALITY</th>\n",
       "      <th>SALE_PRC</th>\n",
       "    </tr>\n",
       "  </thead>\n",
       "  <tbody>\n",
       "    <tr>\n",
       "      <th>0</th>\n",
       "      <td>25.891031</td>\n",
       "      <td>-80.160561</td>\n",
       "      <td>622280070620</td>\n",
       "      <td>9375</td>\n",
       "      <td>1753</td>\n",
       "      <td>0</td>\n",
       "      <td>2815.9</td>\n",
       "      <td>12811.4</td>\n",
       "      <td>347.6</td>\n",
       "      <td>42815.3</td>\n",
       "      <td>37742.2</td>\n",
       "      <td>15954.9</td>\n",
       "      <td>67</td>\n",
       "      <td>0</td>\n",
       "      <td>8</td>\n",
       "      <td>4</td>\n",
       "      <td>440,000</td>\n",
       "    </tr>\n",
       "    <tr>\n",
       "      <th>1</th>\n",
       "      <td>25.891324</td>\n",
       "      <td>-80.153968</td>\n",
       "      <td>622280100460</td>\n",
       "      <td>9375</td>\n",
       "      <td>1715</td>\n",
       "      <td>0</td>\n",
       "      <td>4359.1</td>\n",
       "      <td>10648.4</td>\n",
       "      <td>337.8</td>\n",
       "      <td>43504.9</td>\n",
       "      <td>37340.5</td>\n",
       "      <td>18125.0</td>\n",
       "      <td>63</td>\n",
       "      <td>0</td>\n",
       "      <td>9</td>\n",
       "      <td>4</td>\n",
       "      <td>349,000</td>\n",
       "    </tr>\n",
       "    <tr>\n",
       "      <th>2</th>\n",
       "      <td>25.891334</td>\n",
       "      <td>-80.153740</td>\n",
       "      <td>622280100470</td>\n",
       "      <td>9375</td>\n",
       "      <td>2276</td>\n",
       "      <td>49206</td>\n",
       "      <td>4412.9</td>\n",
       "      <td>10574.1</td>\n",
       "      <td>297.1</td>\n",
       "      <td>43530.4</td>\n",
       "      <td>37328.7</td>\n",
       "      <td>18200.5</td>\n",
       "      <td>61</td>\n",
       "      <td>0</td>\n",
       "      <td>2</td>\n",
       "      <td>4</td>\n",
       "      <td>800,000</td>\n",
       "    </tr>\n",
       "  </tbody>\n",
       "</table>\n",
       "</div>"
      ],
      "text/plain": [
       "    LATITUDE  LONGITUDE      PARCELNO  LND_SQFOOT  TOT_LVG_AREA  \\\n",
       "0  25.891031 -80.160561  622280070620        9375          1753   \n",
       "1  25.891324 -80.153968  622280100460        9375          1715   \n",
       "2  25.891334 -80.153740  622280100470        9375          2276   \n",
       "\n",
       "   SPEC_FEAT_VAL  RAIL_DIST  OCEAN_DIST  WATER_DIST  CNTR_DIST  SUBCNTR_DI  \\\n",
       "0              0     2815.9     12811.4       347.6    42815.3     37742.2   \n",
       "1              0     4359.1     10648.4       337.8    43504.9     37340.5   \n",
       "2          49206     4412.9     10574.1       297.1    43530.4     37328.7   \n",
       "\n",
       "   HWY_DIST  AGE  AVNO60PLUS  MONTH_SOLD  STRUCTURE_QUALITY SALE_PRC  \n",
       "0   15954.9   67           0           8                  4  440,000  \n",
       "1   18125.0   63           0           9                  4  349,000  \n",
       "2   18200.5   61           0           2                  4  800,000  "
      ]
     },
     "execution_count": 3,
     "metadata": {},
     "output_type": "execute_result"
    }
   ],
   "source": [
    "df.head(3)"
   ]
  },
  {
   "cell_type": "code",
   "execution_count": 4,
   "id": "ed9e1fe8-eb29-4ed6-b725-acb8e112ef36",
   "metadata": {},
   "outputs": [
    {
     "name": "stdout",
     "output_type": "stream",
     "text": [
      "<class 'pandas.core.frame.DataFrame'>\n",
      "RangeIndex: 13932 entries, 0 to 13931\n",
      "Data columns (total 17 columns):\n",
      " #   Column             Non-Null Count  Dtype  \n",
      "---  ------             --------------  -----  \n",
      " 0   LATITUDE           13932 non-null  float64\n",
      " 1   LONGITUDE          13932 non-null  float64\n",
      " 2   PARCELNO           13932 non-null  int64  \n",
      " 3   LND_SQFOOT         13932 non-null  int64  \n",
      " 4   TOT_LVG_AREA       13932 non-null  int64  \n",
      " 5   SPEC_FEAT_VAL      13932 non-null  int64  \n",
      " 6   RAIL_DIST          13932 non-null  float64\n",
      " 7   OCEAN_DIST         13932 non-null  float64\n",
      " 8   WATER_DIST         13932 non-null  float64\n",
      " 9   CNTR_DIST          13932 non-null  float64\n",
      " 10  SUBCNTR_DI         13932 non-null  float64\n",
      " 11  HWY_DIST           13932 non-null  float64\n",
      " 12  AGE                13932 non-null  int64  \n",
      " 13  AVNO60PLUS         13932 non-null  int64  \n",
      " 14  MONTH_SOLD         13932 non-null  int64  \n",
      " 15  STRUCTURE_QUALITY  13932 non-null  int64  \n",
      " 16  SALE_PRC           13932 non-null  object \n",
      "dtypes: float64(8), int64(8), object(1)\n",
      "memory usage: 1.8+ MB\n"
     ]
    }
   ],
   "source": [
    "df.info()"
   ]
  },
  {
   "cell_type": "markdown",
   "id": "fbbf58ff-a6b4-4ad8-a81c-b17fb0baa21b",
   "metadata": {},
   "source": [
    "#### To do:\n",
    "- Convert SALE_PRC from string to numeric\n",
    "- Drop Lat, Long, and ParcelNo (not relevant to price)\n",
    "- Convert Age, AVNO, and Structure from int to str"
   ]
  },
  {
   "cell_type": "code",
   "execution_count": 5,
   "id": "9df1ae74-42ad-4bde-a007-6c120da838a9",
   "metadata": {},
   "outputs": [],
   "source": [
    "df = pd.read_csv('miamiHousePriceData.csv', thousands=',')"
   ]
  },
  {
   "cell_type": "code",
   "execution_count": 6,
   "id": "2d6b65ab-fcd3-47e3-94ef-871a6228ae8e",
   "metadata": {},
   "outputs": [],
   "source": [
    "df.drop(['LATITUDE', 'LONGITUDE', 'PARCELNO'], axis = 1, inplace = True)"
   ]
  },
  {
   "cell_type": "code",
   "execution_count": 7,
   "id": "9d89672b-7016-4ce1-bae3-87e2051ae3d2",
   "metadata": {},
   "outputs": [
    {
     "data": {
      "text/html": [
       "<div>\n",
       "<style scoped>\n",
       "    .dataframe tbody tr th:only-of-type {\n",
       "        vertical-align: middle;\n",
       "    }\n",
       "\n",
       "    .dataframe tbody tr th {\n",
       "        vertical-align: top;\n",
       "    }\n",
       "\n",
       "    .dataframe thead th {\n",
       "        text-align: right;\n",
       "    }\n",
       "</style>\n",
       "<table border=\"1\" class=\"dataframe\">\n",
       "  <thead>\n",
       "    <tr style=\"text-align: right;\">\n",
       "      <th></th>\n",
       "      <th>LND_SQFOOT</th>\n",
       "      <th>TOT_LVG_AREA</th>\n",
       "      <th>SPEC_FEAT_VAL</th>\n",
       "      <th>RAIL_DIST</th>\n",
       "      <th>OCEAN_DIST</th>\n",
       "      <th>WATER_DIST</th>\n",
       "      <th>CNTR_DIST</th>\n",
       "      <th>SUBCNTR_DI</th>\n",
       "      <th>HWY_DIST</th>\n",
       "      <th>AGE</th>\n",
       "      <th>AVNO60PLUS</th>\n",
       "      <th>MONTH_SOLD</th>\n",
       "      <th>STRUCTURE_QUALITY</th>\n",
       "      <th>SALE_PRC</th>\n",
       "    </tr>\n",
       "  </thead>\n",
       "  <tbody>\n",
       "    <tr>\n",
       "      <th>0</th>\n",
       "      <td>9375</td>\n",
       "      <td>1753</td>\n",
       "      <td>0</td>\n",
       "      <td>2815.9</td>\n",
       "      <td>12811.4</td>\n",
       "      <td>347.6</td>\n",
       "      <td>42815.3</td>\n",
       "      <td>37742.2</td>\n",
       "      <td>15954.9</td>\n",
       "      <td>67</td>\n",
       "      <td>0</td>\n",
       "      <td>8</td>\n",
       "      <td>4</td>\n",
       "      <td>440000</td>\n",
       "    </tr>\n",
       "    <tr>\n",
       "      <th>1</th>\n",
       "      <td>9375</td>\n",
       "      <td>1715</td>\n",
       "      <td>0</td>\n",
       "      <td>4359.1</td>\n",
       "      <td>10648.4</td>\n",
       "      <td>337.8</td>\n",
       "      <td>43504.9</td>\n",
       "      <td>37340.5</td>\n",
       "      <td>18125.0</td>\n",
       "      <td>63</td>\n",
       "      <td>0</td>\n",
       "      <td>9</td>\n",
       "      <td>4</td>\n",
       "      <td>349000</td>\n",
       "    </tr>\n",
       "    <tr>\n",
       "      <th>2</th>\n",
       "      <td>9375</td>\n",
       "      <td>2276</td>\n",
       "      <td>49206</td>\n",
       "      <td>4412.9</td>\n",
       "      <td>10574.1</td>\n",
       "      <td>297.1</td>\n",
       "      <td>43530.4</td>\n",
       "      <td>37328.7</td>\n",
       "      <td>18200.5</td>\n",
       "      <td>61</td>\n",
       "      <td>0</td>\n",
       "      <td>2</td>\n",
       "      <td>4</td>\n",
       "      <td>800000</td>\n",
       "    </tr>\n",
       "    <tr>\n",
       "      <th>3</th>\n",
       "      <td>12450</td>\n",
       "      <td>2058</td>\n",
       "      <td>10033</td>\n",
       "      <td>4585.0</td>\n",
       "      <td>10156.5</td>\n",
       "      <td>0.0</td>\n",
       "      <td>43797.5</td>\n",
       "      <td>37423.2</td>\n",
       "      <td>18514.4</td>\n",
       "      <td>63</td>\n",
       "      <td>0</td>\n",
       "      <td>9</td>\n",
       "      <td>4</td>\n",
       "      <td>988000</td>\n",
       "    </tr>\n",
       "    <tr>\n",
       "      <th>4</th>\n",
       "      <td>12800</td>\n",
       "      <td>1684</td>\n",
       "      <td>16681</td>\n",
       "      <td>4063.4</td>\n",
       "      <td>10836.8</td>\n",
       "      <td>326.6</td>\n",
       "      <td>43599.7</td>\n",
       "      <td>37550.8</td>\n",
       "      <td>17903.4</td>\n",
       "      <td>42</td>\n",
       "      <td>0</td>\n",
       "      <td>7</td>\n",
       "      <td>4</td>\n",
       "      <td>755000</td>\n",
       "    </tr>\n",
       "  </tbody>\n",
       "</table>\n",
       "</div>"
      ],
      "text/plain": [
       "   LND_SQFOOT  TOT_LVG_AREA  SPEC_FEAT_VAL  RAIL_DIST  OCEAN_DIST  WATER_DIST  \\\n",
       "0        9375          1753              0     2815.9     12811.4       347.6   \n",
       "1        9375          1715              0     4359.1     10648.4       337.8   \n",
       "2        9375          2276          49206     4412.9     10574.1       297.1   \n",
       "3       12450          2058          10033     4585.0     10156.5         0.0   \n",
       "4       12800          1684          16681     4063.4     10836.8       326.6   \n",
       "\n",
       "   CNTR_DIST  SUBCNTR_DI  HWY_DIST  AGE  AVNO60PLUS  MONTH_SOLD  \\\n",
       "0    42815.3     37742.2   15954.9   67           0           8   \n",
       "1    43504.9     37340.5   18125.0   63           0           9   \n",
       "2    43530.4     37328.7   18200.5   61           0           2   \n",
       "3    43797.5     37423.2   18514.4   63           0           9   \n",
       "4    43599.7     37550.8   17903.4   42           0           7   \n",
       "\n",
       "   STRUCTURE_QUALITY  SALE_PRC  \n",
       "0                  4    440000  \n",
       "1                  4    349000  \n",
       "2                  4    800000  \n",
       "3                  4    988000  \n",
       "4                  4    755000  "
      ]
     },
     "execution_count": 7,
     "metadata": {},
     "output_type": "execute_result"
    }
   ],
   "source": [
    "df.head()"
   ]
  },
  {
   "cell_type": "code",
   "execution_count": 8,
   "id": "57951dcb-54a4-4b76-a2d0-e42732e92d44",
   "metadata": {},
   "outputs": [],
   "source": [
    "df['AVNO60PLUS'] = df['AVNO60PLUS'].astype(str)\n",
    "df['MONTH_SOLD'] = df['MONTH_SOLD'].astype(str)\n",
    "df['STRUCTURE_QUALITY'] = df['STRUCTURE_QUALITY'].astype(str)"
   ]
  },
  {
   "cell_type": "code",
   "execution_count": 9,
   "id": "659b4fb9-78a3-4e5d-b478-855822ec15df",
   "metadata": {},
   "outputs": [
    {
     "name": "stdout",
     "output_type": "stream",
     "text": [
      "<class 'pandas.core.frame.DataFrame'>\n",
      "RangeIndex: 13932 entries, 0 to 13931\n",
      "Data columns (total 14 columns):\n",
      " #   Column             Non-Null Count  Dtype  \n",
      "---  ------             --------------  -----  \n",
      " 0   LND_SQFOOT         13932 non-null  int64  \n",
      " 1   TOT_LVG_AREA       13932 non-null  int64  \n",
      " 2   SPEC_FEAT_VAL      13932 non-null  int64  \n",
      " 3   RAIL_DIST          13932 non-null  float64\n",
      " 4   OCEAN_DIST         13932 non-null  float64\n",
      " 5   WATER_DIST         13932 non-null  float64\n",
      " 6   CNTR_DIST          13932 non-null  float64\n",
      " 7   SUBCNTR_DI         13932 non-null  float64\n",
      " 8   HWY_DIST           13932 non-null  float64\n",
      " 9   AGE                13932 non-null  int64  \n",
      " 10  AVNO60PLUS         13932 non-null  object \n",
      " 11  MONTH_SOLD         13932 non-null  object \n",
      " 12  STRUCTURE_QUALITY  13932 non-null  object \n",
      " 13  SALE_PRC           13932 non-null  int64  \n",
      "dtypes: float64(6), int64(5), object(3)\n",
      "memory usage: 1.5+ MB\n"
     ]
    }
   ],
   "source": [
    "df.info()"
   ]
  },
  {
   "cell_type": "markdown",
   "id": "730f0553-3f1d-47ee-9dc5-2e76e7e7f23b",
   "metadata": {},
   "source": [
    "-----"
   ]
  },
  {
   "cell_type": "markdown",
   "id": "2091b767-65aa-4965-8596-0c3a7021e595",
   "metadata": {},
   "source": [
    "### Prep for Linear Regression"
   ]
  },
  {
   "cell_type": "code",
   "execution_count": 10,
   "id": "74910747-3e79-4e0c-a0ac-7a8bf37e3a30",
   "metadata": {
    "tags": []
   },
   "outputs": [
    {
     "data": {
      "text/plain": [
       "<AxesSubplot:>"
      ]
     },
     "execution_count": 10,
     "metadata": {},
     "output_type": "execute_result"
    },
    {
     "data": {
      "image/png": "[encoded data removed]",
      "text/plain": [
       "<Figure size 1080x720 with 2 Axes>"
      ]
     },
     "metadata": {
      "needs_background": "light"
     },
     "output_type": "display_data"
    }
   ],
   "source": [
    "plt.figure(figsize=(15, 10))\n",
    "sns.heatmap(df.corr(), annot=True, cmap='bwr')"
   ]
  },
  {
   "cell_type": "markdown",
   "id": "e0c9ea39-0a21-4615-8830-7a8bb2340df0",
   "metadata": {},
   "source": [
    "### As rail distance had a correlation coefficient under |.1| may want to omit it from the model."
   ]
  },
  {
   "cell_type": "markdown",
   "id": "2605d8dd-265c-4f8d-b697-0de22d2ac447",
   "metadata": {},
   "source": [
    "----"
   ]
  },
  {
   "cell_type": "code",
   "execution_count": 11,
   "id": "614a0682-8c10-4097-b17e-cace633c7fcc",
   "metadata": {},
   "outputs": [
    {
     "name": "stdout",
     "output_type": "stream",
     "text": [
      "        features  vif_Factor\n",
      "0     LND_SQFOOT    4.498526\n",
      "1   TOT_LVG_AREA    9.435215\n",
      "2  SPEC_FEAT_VAL    2.114928\n",
      "3      RAIL_DIST    3.902058\n",
      "4     OCEAN_DIST    8.883481\n",
      "5     WATER_DIST    6.569143\n",
      "6      CNTR_DIST   30.887829\n",
      "7     SUBCNTR_DI   23.739788\n",
      "8       HWY_DIST    3.312058\n",
      "9            AGE    2.632472\n"
     ]
    }
   ],
   "source": [
    "from statsmodels.stats.outliers_influence import variance_inflation_factor\n",
    "\n",
    "X=df.drop(['AVNO60PLUS', 'MONTH_SOLD', 'STRUCTURE_QUALITY', 'SALE_PRC'], axis=1)\n",
    "vif = pd.DataFrame()\n",
    "vif[\"features\"] = X.columns\n",
    "vif[\"vif_Factor\"] = [variance_inflation_factor(X.values, i) for i in range(X.shape[1])]\n",
    "print(vif)"
   ]
  },
  {
   "cell_type": "markdown",
   "id": "533c1d3d-df23-4678-86df-ed98f32cb1a8",
   "metadata": {},
   "source": [
    "#### VIF above 10 for cntr/subcnt distance, will remove center distance as subcenter will be applicable to more homes."
   ]
  },
  {
   "cell_type": "code",
   "execution_count": 12,
   "id": "cf46cd0c-baeb-45f1-a01f-c231a7d69b30",
   "metadata": {},
   "outputs": [
    {
     "name": "stdout",
     "output_type": "stream",
     "text": [
      "        features  vif_Factor\n",
      "0     LND_SQFOOT    4.339724\n",
      "1   TOT_LVG_AREA    8.627910\n",
      "2  SPEC_FEAT_VAL    2.109679\n",
      "3      RAIL_DIST    3.816798\n",
      "4     OCEAN_DIST    6.723331\n",
      "5     WATER_DIST    3.476286\n",
      "6     SUBCNTR_DI    6.360638\n",
      "7       HWY_DIST    3.308394\n",
      "8            AGE    2.632176\n"
     ]
    }
   ],
   "source": [
    "X=df.drop(['CNTR_DIST', 'AVNO60PLUS', 'MONTH_SOLD', 'STRUCTURE_QUALITY', 'SALE_PRC'], axis=1)\n",
    "vif = pd.DataFrame()\n",
    "vif[\"features\"] = X.columns\n",
    "vif[\"vif_Factor\"] = [variance_inflation_factor(X.values, i) for i in range(X.shape[1])]\n",
    "print(vif)"
   ]
  },
  {
   "cell_type": "markdown",
   "id": "202f1a59-fcda-4941-8817-8b8358fafbd3",
   "metadata": {},
   "source": [
    "#### VIF for all variables <10\n",
    "#### Independent Variables for model creation chosen"
   ]
  },
  {
   "cell_type": "markdown",
   "id": "b5a85eed-ddd6-4b1d-a450-57c69ad07c44",
   "metadata": {},
   "source": [
    "----"
   ]
  },
  {
   "cell_type": "markdown",
   "id": "3259adee-9b59-4bf8-af66-5d1d07389af0",
   "metadata": {},
   "source": [
    "# Linear Regression Model Creation"
   ]
  },
  {
   "cell_type": "markdown",
   "id": "6db4e679-e205-48cd-b0a5-4c961b0d968a",
   "metadata": {},
   "source": [
    "### With RAIL_DIST:"
   ]
  },
  {
   "cell_type": "code",
   "execution_count": 13,
   "id": "463b5079-edc2-4752-b432-77a0cec20510",
   "metadata": {},
   "outputs": [],
   "source": [
    "from sklearn.model_selection import train_test_split\n",
    "\n",
    "X = df.drop(['CNTR_DIST', 'SALE_PRC'], axis=1)\n",
    "y = df['SALE_PRC']\n",
    "\n",
    "X_train, X_test, y_train, y_test = train_test_split(X, y, test_size = 0.2, random_state=42)"
   ]
  },
  {
   "cell_type": "code",
   "execution_count": 14,
   "id": "779cca3d-e9ed-45d7-9424-1dd3f523b396",
   "metadata": {},
   "outputs": [],
   "source": [
    "from sklearn.preprocessing import StandardScaler\n",
    "\n",
    "scaler = StandardScaler()\n",
    "X_train = scaler.fit_transform(X_train)\n",
    "X_test = scaler.transform(X_test)"
   ]
  },
  {
   "cell_type": "code",
   "execution_count": 15,
   "id": "9924ef93-b420-4ab6-8980-7846323b66a7",
   "metadata": {},
   "outputs": [
    {
     "name": "stdout",
     "output_type": "stream",
     "text": [
      "R^2:  train: 0.671  | test: 0.666\n",
      "MAE:  train: 114006 | test: 119147\n",
      "RMSE: train: 182397 | test: 181460\n",
      "\n",
      "Intercept: 399595\n",
      "\n",
      "Coefficients:\n",
      "LND_SQFOOT: 8385\n",
      "TOT_LVG_AREA: 160277\n",
      "SPEC_FEAT_VAL: 40799\n",
      "RAIL_DIST: 22801\n",
      "OCEAN_DIST: -48304\n",
      "WATER_DIST: -49802\n",
      "SUBCNTR_DI: -72899\n",
      "HWY_DIST: 30262\n",
      "AGE: -24202\n",
      "AVNO60PLUS: -8525\n",
      "MONTH_SOLD: 299\n",
      "STRUCTURE_QUALITY: 73532\n"
     ]
    }
   ],
   "source": [
    "from sklearn.linear_model import LinearRegression\n",
    "from sklearn import metrics\n",
    "\n",
    "clf = LinearRegression().fit(X_train, y_train)\n",
    "\n",
    "print(f\"R^2:  train: {round(clf.score(X_train, y_train), 3)}  | test: {round(clf.score(X_test, y_test), 3)}\")\n",
    "print(f\"MAE:  train: {round(metrics.mean_absolute_error(y_train, clf.predict(X_train)))} | test: {round(metrics.mean_absolute_error(y_test, clf.predict(X_test)))}\")\n",
    "print(f\"RMSE: train: {round(np.sqrt(metrics.mean_squared_error(y_train, clf.predict(X_train))))} | test: {round(np.sqrt(metrics.mean_squared_error(y_test, clf.predict(X_test))))}\")\n",
    "\n",
    "print()\n",
    "print(f\"Intercept: {round(clf.intercept_)}\")\n",
    "print()\n",
    "print(\"Coefficients:\")\n",
    "for x, y in list(zip(X.columns, clf.coef_)):\n",
    "    print(f'{x}: {round(y)}')"
   ]
  },
  {
   "cell_type": "markdown",
   "id": "6b25dbea-a4f1-411f-bbe6-6574c7bb414f",
   "metadata": {},
   "source": [
    "### RAIL_DIST omitted:"
   ]
  },
  {
   "cell_type": "code",
   "execution_count": 16,
   "id": "631bc3ab-5a57-4cde-9b9a-7ebb13cdf5df",
   "metadata": {},
   "outputs": [],
   "source": [
    "X = df.drop(['RAIL_DIST', 'CNTR_DIST', 'SALE_PRC'], axis=1)\n",
    "y = df['SALE_PRC']\n",
    "\n",
    "X_train, X_test, y_train, y_test = train_test_split(X, y, test_size = 0.2, random_state=42)"
   ]
  },
  {
   "cell_type": "code",
   "execution_count": 17,
   "id": "a93fbe2e-f05c-444b-b52b-0645d2900cdd",
   "metadata": {},
   "outputs": [],
   "source": [
    "scaler = StandardScaler()\n",
    "X_train = scaler.fit_transform(X_train)\n",
    "X_test = scaler.transform(X_test)"
   ]
  },
  {
   "cell_type": "code",
   "execution_count": 18,
   "id": "6a7344ee-6e37-46e7-b24a-7b9f6146d675",
   "metadata": {},
   "outputs": [
    {
     "name": "stdout",
     "output_type": "stream",
     "text": [
      "R^2:  train: 0.667  | test: 0.663\n",
      "MAE:  train: 115384 | test: 120752\n",
      "RMSE: train: 183447 | test: 182297\n",
      "\n",
      "Intercept: 399595\n",
      "\n",
      "Coefficients:\n",
      "LND_SQFOOT: 7280\n",
      "TOT_LVG_AREA: 162992\n",
      "SPEC_FEAT_VAL: 40980\n",
      "OCEAN_DIST: -47826\n",
      "WATER_DIST: -47738\n",
      "SUBCNTR_DI: -62622\n",
      "HWY_DIST: 27624\n",
      "AGE: -23885\n",
      "AVNO60PLUS: -10328\n",
      "MONTH_SOLD: 268\n",
      "STRUCTURE_QUALITY: 74651\n"
     ]
    }
   ],
   "source": [
    "clf = LinearRegression().fit(X_train, y_train)\n",
    "\n",
    "print(f\"R^2:  train: {round(clf.score(X_train, y_train), 3)}  | test: {round(clf.score(X_test, y_test), 3)}\")\n",
    "print(f\"MAE:  train: {round(metrics.mean_absolute_error(y_train, clf.predict(X_train)))} | test: {round(metrics.mean_absolute_error(y_test, clf.predict(X_test)))}\")\n",
    "print(f\"RMSE: train: {round(np.sqrt(metrics.mean_squared_error(y_train, clf.predict(X_train))))} | test: {round(np.sqrt(metrics.mean_squared_error(y_test, clf.predict(X_test))))}\")\n",
    "\n",
    "print()\n",
    "print(f\"Intercept: {round(clf.intercept_)}\")\n",
    "print()\n",
    "print(\"Coefficients:\")\n",
    "for x, y in list(zip(X.columns, clf.coef_)):\n",
    "    print(f'{x}: {round(y)}')"
   ]
  },
  {
   "cell_type": "markdown",
   "id": "7dee5b9b-af63-4120-a366-0d2083065687",
   "metadata": {},
   "source": [
    "### Slightly lower R^2, but could be worth simplifying the model.\n",
    "----"
   ]
  },
  {
   "cell_type": "markdown",
   "id": "137decc8-d562-4b51-b475-3373faf920da",
   "metadata": {},
   "source": [
    "#### Even though [OCEAN_DIST and WATER_DIST] / [LND_SQFOOT and TOT_LVG_AREA] did not have a VIF above 10, their high correlation to eachother may affect the model's efficacy. May be worth testing model with one of each omitted.\n",
    "---\n",
    "### Models without OCEAN_DIST and LND_SQFOOT, chosen by correlation coefficient in relation to SALE_PRC"
   ]
  },
  {
   "cell_type": "code",
   "execution_count": 19,
   "id": "09ef27c0-03d6-4f4c-afa8-6888d25a391d",
   "metadata": {},
   "outputs": [],
   "source": [
    "X = df.drop(['LND_SQFOOT', 'WATER_DIST', 'RAIL_DIST', 'CNTR_DIST', 'SALE_PRC'], axis=1)\n",
    "y = df['SALE_PRC']\n",
    "\n",
    "X_train, X_test, y_train, y_test = train_test_split(X, y, test_size = 0.2, random_state=42)"
   ]
  },
  {
   "cell_type": "code",
   "execution_count": 20,
   "id": "575c408a-17bd-4062-9bad-610fdd6b94ac",
   "metadata": {},
   "outputs": [],
   "source": [
    "scaler = StandardScaler()\n",
    "X_train = scaler.fit_transform(X_train)\n",
    "X_test = scaler.transform(X_test)"
   ]
  },
  {
   "cell_type": "code",
   "execution_count": 21,
   "id": "d6d21fde-fc4b-4f1b-aed8-4904a036ec43",
   "metadata": {},
   "outputs": [
    {
     "name": "stdout",
     "output_type": "stream",
     "text": [
      "R^2:  train: 0.655  | test: 0.651\n",
      "MAE:  train: 118771 | test: 123358\n",
      "RMSE: train: 186780 | test: 185419\n",
      "\n",
      "Intercept: 399595\n",
      "\n",
      "Coefficients:\n",
      "TOT_LVG_AREA: 162277\n",
      "SPEC_FEAT_VAL: 44559\n",
      "OCEAN_DIST: -74737\n",
      "SUBCNTR_DI: -54444\n",
      "HWY_DIST: 11689\n",
      "AGE: -10697\n",
      "AVNO60PLUS: -7055\n",
      "MONTH_SOLD: 91\n",
      "STRUCTURE_QUALITY: 85950\n"
     ]
    }
   ],
   "source": [
    "clf = LinearRegression().fit(X_train, y_train)\n",
    "\n",
    "print(f\"R^2:  train: {round(clf.score(X_train, y_train), 3)}  | test: {round(clf.score(X_test, y_test), 3)}\")\n",
    "print(f\"MAE:  train: {round(metrics.mean_absolute_error(y_train, clf.predict(X_train)))} | test: {round(metrics.mean_absolute_error(y_test, clf.predict(X_test)))}\")\n",
    "print(f\"RMSE: train: {round(np.sqrt(metrics.mean_squared_error(y_train, clf.predict(X_train))))} | test: {round(np.sqrt(metrics.mean_squared_error(y_test, clf.predict(X_test))))}\")\n",
    "\n",
    "print()\n",
    "print(f\"Intercept: {round(clf.intercept_)}\")\n",
    "print()\n",
    "print(\"Coefficients:\")\n",
    "for x, y in list(zip(X.columns, clf.coef_)):\n",
    "    print(f'{x}: {round(y)}')"
   ]
  },
  {
   "cell_type": "markdown",
   "id": "f18b21ee-f4c9-449a-bd24-5f9870cf46d5",
   "metadata": {},
   "source": [
    "### Minimal drop in r^2, minimal change in MAE and RMSE, likely the most optimized model."
   ]
  }
 ],
 "metadata": {
  "kernelspec": {
   "display_name": "Python 3",
   "language": "python",
   "name": "python3"
  },
  "language_info": {
   "codemirror_mode": {
    "name": "ipython",
    "version": 3
   },
   "file_extension": ".py",
   "mimetype": "text/x-python",
   "name": "python",
   "nbconvert_exporter": "python",
   "pygments_lexer": "ipython3",
   "version": "3.9.4"
  }
 },
 "nbformat": 4,
 "nbformat_minor": 5
}
