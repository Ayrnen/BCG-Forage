{
 "cells": [
  {
   "cell_type": "code",
   "execution_count": 14,
   "id": "ec479d6e-c947-4ea0-9040-00eaea2634c2",
   "metadata": {},
   "outputs": [],
   "source": [
    "import pandas as pd\n",
    "import numpy as np"
   ]
  },
  {
   "cell_type": "code",
   "execution_count": 3,
   "id": "8ae9620a-86a6-4fb6-83be-87546fd39a1d",
   "metadata": {},
   "outputs": [],
   "source": [
    "dfClient = pd.read_csv(r'C:\\Users\\Aymen\\Desktop\\BCG Forage\\Task 2\\client_data.csv')\n",
    "dfPrice = pd.read_csv(r'C:\\Users\\Aymen\\Desktop\\BCG Forage\\Task 2\\price_data.csv')"
   ]
  },
  {
   "cell_type": "code",
   "execution_count": 6,
   "id": "58154487-110f-4451-8425-e0c532dc1037",
   "metadata": {},
   "outputs": [
    {
     "name": "stdout",
     "output_type": "stream",
     "text": [
      "0    2016-06-15\n",
      "1    2016-08-30\n",
      "2    2016-04-16\n",
      "3    2016-03-30\n",
      "4    2016-03-07\n",
      "Name: date_end, dtype: object\n"
     ]
    }
   ],
   "source": [
    "# Figure out which customers are available to churn by March 2016\n",
    "\n",
    "print(type(dfClient['date_end'][0]))\n",
    "print(dfClient['date_end'].head())"
   ]
  },
  {
   "cell_type": "code",
   "execution_count": 9,
   "id": "bdfb9de9-9aca-4094-922c-e75b0ef24f5d",
   "metadata": {},
   "outputs": [
    {
     "name": "stdout",
     "output_type": "stream",
     "text": [
      "2017-01-22T00:00:00.000000000\n",
      "Not 2016!\n",
      "2017-01-06T00:00:00.000000000\n",
      "Not 2016!\n",
      "2017-01-08T00:00:00.000000000\n",
      "Not 2016!\n",
      "2017-01-21T00:00:00.000000000\n",
      "Not 2016!\n",
      "2017-01-01T00:00:00.000000000\n",
      "Not 2016!\n",
      "2017-01-24T00:00:00.000000000\n",
      "Not 2016!\n",
      "2017-01-26T00:00:00.000000000\n",
      "Not 2016!\n",
      "2017-01-17T00:00:00.000000000\n",
      "Not 2016!\n",
      "2017-01-02T00:00:00.000000000\n",
      "Not 2016!\n",
      "2017-01-18T00:00:00.000000000\n",
      "Not 2016!\n",
      "2017-01-15T00:00:00.000000000\n",
      "Not 2016!\n",
      "2017-01-03T00:00:00.000000000\n",
      "Not 2016!\n",
      "2017-01-10T00:00:00.000000000\n",
      "Not 2016!\n",
      "2017-01-05T00:00:00.000000000\n",
      "Not 2016!\n",
      "2017-01-09T00:00:00.000000000\n",
      "Not 2016!\n",
      "2017-01-13T00:00:00.000000000\n",
      "Not 2016!\n",
      "2017-01-20T00:00:00.000000000\n",
      "Not 2016!\n",
      "2017-01-27T00:00:00.000000000\n",
      "Not 2016!\n",
      "2017-01-25T00:00:00.000000000\n",
      "Not 2016!\n",
      "2017-01-04T00:00:00.000000000\n",
      "Not 2016!\n",
      "2017-01-12T00:00:00.000000000\n",
      "Not 2016!\n",
      "2017-01-07T00:00:00.000000000\n",
      "Not 2016!\n",
      "2017-01-19T00:00:00.000000000\n",
      "Not 2016!\n",
      "2017-01-14T00:00:00.000000000\n",
      "Not 2016!\n",
      "2017-01-16T00:00:00.000000000\n",
      "Not 2016!\n",
      "2017-01-23T00:00:00.000000000\n",
      "Not 2016!\n",
      "2017-01-11T00:00:00.000000000\n",
      "Not 2016!\n",
      "2017-01-29T00:00:00.000000000\n",
      "Not 2016!\n",
      "2017-06-01T00:00:00.000000000\n",
      "Not 2016!\n",
      "2017-01-28T00:00:00.000000000\n",
      "Not 2016!\n",
      "2017-06-13T00:00:00.000000000\n",
      "Not 2016!\n",
      "2017-06-11T00:00:00.000000000\n",
      "Not 2016!\n"
     ]
    }
   ],
   "source": [
    "# Convert \n",
    "\n",
    "dfClient['date_end'] = pd.to_datetime(dfClient['date_end'])\n",
    "all2016 = True\n",
    "for date in pd.unique(dfClient['date_end']):\n",
    "    if pd.to_datetime(date).year != 2016:\n",
    "        all2016 = False\n",
    "        print(date)\n",
    "        print('Not 2016!')\n",
    "if all2016 == True:\n",
    "    print('All contract end dates are in 2016.')\n"
   ]
  },
  {
   "cell_type": "code",
   "execution_count": 12,
   "id": "732b71ae-9788-470b-9e78-ded411122b22",
   "metadata": {},
   "outputs": [
    {
     "name": "stdout",
     "output_type": "stream",
     "text": [
      "There are no duplicates.\n"
     ]
    }
   ],
   "source": [
    "dfClientDups = dfClient[dfClient.duplicated(['id'])]\n",
    "if len(dfClientDups) == 0:\n",
    "    print('There are no duplicates.')\n",
    "else:\n",
    "    print('Duplicates Found!')\n",
    "    print(dfClientDups)"
   ]
  },
  {
   "cell_type": "code",
   "execution_count": 21,
   "id": "9544155a-b45d-47e4-9166-cd7f3b48b17a",
   "metadata": {},
   "outputs": [],
   "source": [
    "# Find clients with a contract ending from Jan 2016 - March 2016\n",
    "mask = (dfClient['date_end'] > np.datetime64('2016-01-01')) & (dfClient['date_end'] <= np.datetime64('2016-03-03'))\n",
    "dfCanChurn = dfClient.loc[mask]"
   ]
  },
  {
   "cell_type": "code",
   "execution_count": 25,
   "id": "c3ecf9ba-bb06-4938-8cf9-514444c9d80a",
   "metadata": {},
   "outputs": [
    {
     "name": "stdout",
     "output_type": "stream",
     "text": [
      "Between Jan 2016 and March 2016 ~11% of companies who could churn did churn.\n"
     ]
    }
   ],
   "source": [
    "countCan = len(dfCanChurn)\n",
    "countDid = len(dfCanChurn.loc[dfCanChurn['churn'] == 1])\n",
    "\n",
    "print( 'Between Jan 2016 and March 2016 ~' + str(round((countDid/countCan) * 100)) +  '% of companies who could churn did churn.')"
   ]
  },
  {
   "cell_type": "code",
   "execution_count": 28,
   "id": "c5426c54-65b8-4842-8f86-9806990e2b2e",
   "metadata": {},
   "outputs": [
    {
     "name": "stdout",
     "output_type": "stream",
     "text": [
      "                                 id channel_sales  cons_12m  cons_gas_12m  \\\n",
      "0  038af19179925da21a25619c5a24b745           NaN       NaN           NaN   \n",
      "1  038af19179925da21a25619c5a24b745           NaN       NaN           NaN   \n",
      "2  038af19179925da21a25619c5a24b745           NaN       NaN           NaN   \n",
      "3  038af19179925da21a25619c5a24b745           NaN       NaN           NaN   \n",
      "4  038af19179925da21a25619c5a24b745           NaN       NaN           NaN   \n",
      "\n",
      "   cons_last_month date_activ date_end date_modif_prod date_renewal  \\\n",
      "0              NaN        NaN      NaT             NaN          NaN   \n",
      "1              NaN        NaN      NaT             NaN          NaN   \n",
      "2              NaN        NaN      NaT             NaN          NaN   \n",
      "3              NaN        NaN      NaT             NaN          NaN   \n",
      "4              NaN        NaN      NaT             NaN          NaN   \n",
      "\n",
      "   forecast_cons_12m  ...  origin_up  pow_max  churn  price_date  \\\n",
      "0                NaN  ...        NaN      NaN    NaN  2015-01-01   \n",
      "1                NaN  ...        NaN      NaN    NaN  2015-02-01   \n",
      "2                NaN  ...        NaN      NaN    NaN  2015-03-01   \n",
      "3                NaN  ...        NaN      NaN    NaN  2015-04-01   \n",
      "4                NaN  ...        NaN      NaN    NaN  2015-05-01   \n",
      "\n",
      "   price_off_peak_var  price_peak_var price_mid_peak_var  price_off_peak_fix  \\\n",
      "0            0.151367             0.0                0.0           44.266931   \n",
      "1            0.151367             0.0                0.0           44.266931   \n",
      "2            0.151367             0.0                0.0           44.266931   \n",
      "3            0.149626             0.0                0.0           44.266931   \n",
      "4            0.149626             0.0                0.0           44.266931   \n",
      "\n",
      "   price_peak_fix  price_mid_peak_fix  \n",
      "0             0.0                 0.0  \n",
      "1             0.0                 0.0  \n",
      "2             0.0                 0.0  \n",
      "3             0.0                 0.0  \n",
      "4             0.0                 0.0  \n",
      "\n",
      "[5 rows x 33 columns]\n"
     ]
    }
   ],
   "source": [
    "# Right Join churnable companies with their 2015 prices\n",
    "\n",
    "dfCCPrice = pd.merge(dfCanChurn, dfPrice, on='id',how='right')\n",
    "print(dfCCPrice.head(5))"
   ]
  },
  {
   "cell_type": "code",
   "execution_count": null,
   "id": "90b6f02a-42ea-4774-8de4-6741cd33c606",
   "metadata": {},
   "outputs": [],
   "source": []
  }
 ],
 "metadata": {
  "kernelspec": {
   "display_name": "Python 3",
   "language": "python",
   "name": "python3"
  },
  "language_info": {
   "codemirror_mode": {
    "name": "ipython",
    "version": 3
   },
   "file_extension": ".py",
   "mimetype": "text/x-python",
   "name": "python",
   "nbconvert_exporter": "python",
   "pygments_lexer": "ipython3",
   "version": "3.9.4"
  }
 },
 "nbformat": 4,
 "nbformat_minor": 5
}
